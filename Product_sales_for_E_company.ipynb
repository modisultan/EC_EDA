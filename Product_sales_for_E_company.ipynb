{
 "cells": [
  {
   "cell_type": "markdown",
   "id": "e4fcdf17",
   "metadata": {},
   "source": [
    "# <font color= 'blue'>PRODUCT  SALES FOR E COMPANY</font>"
   ]
  },
  {
   "cell_type": "markdown",
   "id": "8376cb45",
   "metadata": {},
   "source": [
    "### Company Background (Scenario):\n",
    "Electronics company (EC) is Saudi Arabia-based on sales different types of electronics that has been exported from Amazon such as Apple Air pods Headphones, Batteries, USB-C Charging Cable and laptops etc..\n"
   ]
  },
  {
   "cell_type": "markdown",
   "id": "557412cb",
   "metadata": {},
   "source": [
    "### Motivation:\n",
    "E company want to do sales analytics for forecasting future sales performance and for improving sales."
   ]
  },
  {
   "cell_type": "markdown",
   "id": "cab40835",
   "metadata": {},
   "source": [
    "### Target:\n",
    "A target market analysis is an assessment of how your product or service fits into a specific market and where it will gain the most.\n"
   ]
  },
  {
   "cell_type": "markdown",
   "id": "f95bcdc0",
   "metadata": {},
   "source": [
    "### Questions:\n",
    "\n",
    "\n",
    "Q1: What was the best year for sales?\n",
    "\n",
    "Q2: What product sold the most?\n",
    "\n",
    "Q3: What City had the highest number of sales?"
   ]
  },
  {
   "cell_type": "markdown",
   "id": "36bd28b9",
   "metadata": {},
   "source": [
    "### Data Description:\n",
    "\n",
    "The data will be used in this project is provided by kaggle.\n",
    "The Sales Product Data provided in .CSV format. \n",
    "it contains of 17539 rows and set of columns:\n",
    "\n",
    "Order ID - An Order ID is the number system that Amazon uses\n",
    "exclusively to keep track of orders.\n",
    "\n",
    "Product - The product that have been sold.\n",
    "\n",
    "Quantity Ordered - Ordered Quantity is the total item quantity\n",
    "ordered in the initial order.\n",
    "\n",
    "Price Each - The price of each product.\n",
    "\n",
    "Order Date - This is the date the customer is requesting the order\n",
    "be shipped.\n",
    "\n",
    "Purchase Address – is shipping address prepared by the buyer,often through a purchasing department.\n"
   ]
  },
  {
   "cell_type": "markdown",
   "id": "f808d9e2",
   "metadata": {},
   "source": [
    "### Tools:"
   ]
  },
  {
   "cell_type": "markdown",
   "id": "8e321ad0",
   "metadata": {},
   "source": [
    "#####  1-SQL:\n",
    "Using some command.\n",
    "\n",
    "##### 2-PYTHON:\n",
    "Using libraries like Pandas, NumPy and Matplotib.\n"
   ]
  }
 ],
 "metadata": {
  "kernelspec": {
   "display_name": "Python 3",
   "language": "python",
   "name": "python3"
  },
  "language_info": {
   "codemirror_mode": {
    "name": "ipython",
    "version": 3
   },
   "file_extension": ".py",
   "mimetype": "text/x-python",
   "name": "python",
   "nbconvert_exporter": "python",
   "pygments_lexer": "ipython3",
   "version": "3.8.8"
  }
 },
 "nbformat": 4,
 "nbformat_minor": 5
}
