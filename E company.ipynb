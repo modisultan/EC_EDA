{
 "cells": [
  {
   "cell_type": "markdown",
   "id": "a6aa49ae",
   "metadata": {},
   "source": [
    "## PRODUCT SALES FOR E COMPANY\n",
    "\n",
    "### appendix \n",
    "-click on links: \n",
    "\n",
    "> <a href=#imports>Import libraries</a>\n",
    "\n",
    "> <a href=#load>Load data</a>\n",
    "\n",
    "> <a href=#formating>Data formating</a>\n",
    "\n",
    "> <a href=#valid>validate assumption</a>"
   ]
  },
  {
   "cell_type": "markdown",
   "id": "463b1c22",
   "metadata": {},
   "source": [
    "# <a name=imports> Import libraries</a>"
   ]
  },
  {
   "cell_type": "code",
   "execution_count": 1,
   "id": "ef8bdd1f",
   "metadata": {},
   "outputs": [],
   "source": [
    "import pandas as pd \n",
    "import numpy as np\n",
    "import matplotlib.pyplot as plt\n",
    "import seaborn as sns\n",
    "%matplotlib inline "
   ]
  },
  {
   "cell_type": "markdown",
   "id": "ded032ba",
   "metadata": {},
   "source": [
    "# <a name=load>Load data</a>"
   ]
  },
  {
   "cell_type": "code",
   "execution_count": 2,
   "id": "1ee7d5a5",
   "metadata": {},
   "outputs": [],
   "source": [
    "df = pd.read_csv('Sales_April_2019.csv',\n",
    "                 na_values = -1,\n",
    "                 index_col = 0)"
   ]
  },
  {
   "cell_type": "code",
   "execution_count": 3,
   "id": "d09c456b",
   "metadata": {},
   "outputs": [
    {
     "data": {
      "text/html": [
       "<div>\n",
       "<style scoped>\n",
       "    .dataframe tbody tr th:only-of-type {\n",
       "        vertical-align: middle;\n",
       "    }\n",
       "\n",
       "    .dataframe tbody tr th {\n",
       "        vertical-align: top;\n",
       "    }\n",
       "\n",
       "    .dataframe thead th {\n",
       "        text-align: right;\n",
       "    }\n",
       "</style>\n",
       "<table border=\"1\" class=\"dataframe\">\n",
       "  <thead>\n",
       "    <tr style=\"text-align: right;\">\n",
       "      <th></th>\n",
       "      <th>Product</th>\n",
       "      <th>Quantity Ordered</th>\n",
       "      <th>Price Each</th>\n",
       "      <th>Order Date</th>\n",
       "      <th>Purchase Address</th>\n",
       "    </tr>\n",
       "    <tr>\n",
       "      <th>Order ID</th>\n",
       "      <th></th>\n",
       "      <th></th>\n",
       "      <th></th>\n",
       "      <th></th>\n",
       "      <th></th>\n",
       "    </tr>\n",
       "  </thead>\n",
       "  <tbody>\n",
       "    <tr>\n",
       "      <th>176558</th>\n",
       "      <td>USB-C Charging Cable</td>\n",
       "      <td>2</td>\n",
       "      <td>11.95</td>\n",
       "      <td>04/19/19 08:46</td>\n",
       "      <td>917 1st St, Dallas, TX 75001</td>\n",
       "    </tr>\n",
       "    <tr>\n",
       "      <th>NaN</th>\n",
       "      <td>NaN</td>\n",
       "      <td>NaN</td>\n",
       "      <td>NaN</td>\n",
       "      <td>NaN</td>\n",
       "      <td>NaN</td>\n",
       "    </tr>\n",
       "    <tr>\n",
       "      <th>176559</th>\n",
       "      <td>Bose SoundSport Headphones</td>\n",
       "      <td>1</td>\n",
       "      <td>99.99</td>\n",
       "      <td>04/07/19 22:30</td>\n",
       "      <td>682 Chestnut St, Boston, MA 02215</td>\n",
       "    </tr>\n",
       "    <tr>\n",
       "      <th>176560</th>\n",
       "      <td>Google Phone</td>\n",
       "      <td>1</td>\n",
       "      <td>600</td>\n",
       "      <td>04/12/19 14:38</td>\n",
       "      <td>669 Spruce St, Los Angeles, CA 90001</td>\n",
       "    </tr>\n",
       "    <tr>\n",
       "      <th>176560</th>\n",
       "      <td>Wired Headphones</td>\n",
       "      <td>1</td>\n",
       "      <td>11.99</td>\n",
       "      <td>04/12/19 14:38</td>\n",
       "      <td>669 Spruce St, Los Angeles, CA 90001</td>\n",
       "    </tr>\n",
       "  </tbody>\n",
       "</table>\n",
       "</div>"
      ],
      "text/plain": [
       "                             Product Quantity Ordered Price Each  \\\n",
       "Order ID                                                           \n",
       "176558          USB-C Charging Cable                2      11.95   \n",
       "NaN                              NaN              NaN        NaN   \n",
       "176559    Bose SoundSport Headphones                1      99.99   \n",
       "176560                  Google Phone                1        600   \n",
       "176560              Wired Headphones                1      11.99   \n",
       "\n",
       "              Order Date                      Purchase Address  \n",
       "Order ID                                                        \n",
       "176558    04/19/19 08:46          917 1st St, Dallas, TX 75001  \n",
       "NaN                  NaN                                   NaN  \n",
       "176559    04/07/19 22:30     682 Chestnut St, Boston, MA 02215  \n",
       "176560    04/12/19 14:38  669 Spruce St, Los Angeles, CA 90001  \n",
       "176560    04/12/19 14:38  669 Spruce St, Los Angeles, CA 90001  "
      ]
     },
     "execution_count": 3,
     "metadata": {},
     "output_type": "execute_result"
    }
   ],
   "source": [
    "df.head()"
   ]
  },
  {
   "cell_type": "code",
   "execution_count": 4,
   "id": "3e1efa94",
   "metadata": {
    "scrolled": true
   },
   "outputs": [
    {
     "name": "stdout",
     "output_type": "stream",
     "text": [
      "<class 'pandas.core.frame.DataFrame'>\n",
      "Index: 18383 entries, 176558 to 194094\n",
      "Data columns (total 5 columns):\n",
      " #   Column            Non-Null Count  Dtype \n",
      "---  ------            --------------  ----- \n",
      " 0   Product           18324 non-null  object\n",
      " 1   Quantity Ordered  18324 non-null  object\n",
      " 2   Price Each        18324 non-null  object\n",
      " 3   Order Date        18324 non-null  object\n",
      " 4   Purchase Address  18324 non-null  object\n",
      "dtypes: object(5)\n",
      "memory usage: 861.7+ KB\n"
     ]
    }
   ],
   "source": [
    "df.info()"
   ]
  },
  {
   "cell_type": "markdown",
   "id": "96455fcf",
   "metadata": {},
   "source": [
    "# <a name=formating>Data formating</a>"
   ]
  },
  {
   "cell_type": "code",
   "execution_count": null,
   "id": "58237cc4",
   "metadata": {},
   "outputs": [],
   "source": [
    "df[\"Order ID\"]"
   ]
  },
  {
   "cell_type": "code",
   "execution_count": null,
   "id": "a5951072",
   "metadata": {},
   "outputs": [],
   "source": [
    "# i need to change data format of three colums :order id ,Quantity Ordered,Price Each \n",
    "\n",
    "df['OrderID'] = pd.to_numeric(df['OrderID'],errors='coerc')"
   ]
  },
  {
   "cell_type": "markdown",
   "id": "b7aff25c",
   "metadata": {},
   "source": [
    "# <a name=valid>validate assumption</a>"
   ]
  },
  {
   "cell_type": "code",
   "execution_count": null,
   "id": "097bf53b",
   "metadata": {},
   "outputs": [],
   "source": [
    "for col in df.columns:\n",
    "    uniq_val = df[col].unique()\n",
    "    print(col,' : ',uniq_val)\n",
    "    print(' ')"
   ]
  }
 ],
 "metadata": {
  "kernelspec": {
   "display_name": "Python 3",
   "language": "python",
   "name": "python3"
  },
  "language_info": {
   "codemirror_mode": {
    "name": "ipython",
    "version": 3
   },
   "file_extension": ".py",
   "mimetype": "text/x-python",
   "name": "python",
   "nbconvert_exporter": "python",
   "pygments_lexer": "ipython3",
   "version": "3.8.8"
  }
 },
 "nbformat": 4,
 "nbformat_minor": 5
}
