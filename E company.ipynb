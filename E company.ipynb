{
 "cells": [
  {
   "cell_type": "markdown",
   "id": "a6aa49ae",
   "metadata": {},
   "source": [
    "## PRODUCT SALES FOR E COMPANY\n",
    "\n",
    "### appendix \n",
    "-click on links: \n",
    "\n",
    "> <a href=#imports>Import libraries</a>\n",
    "\n",
    "> <a href=#load>Load data</a>\n",
    "\n",
    "> <a href=#formating>Data formating</a>\n",
    "\n",
    "\n",
    "> <a href=#EDA>Explratory data analysis</a>\n",
    "\n",
    "> <a href=#Questions>Questions</a>\n",
    "\n",
    "> <a href=#Qun>Qunclosion</a>"
   ]
  },
  {
   "cell_type": "markdown",
   "id": "463b1c22",
   "metadata": {},
   "source": [
    "# <a name=imports> Import libraries</a>"
   ]
  },
  {
   "cell_type": "code",
   "execution_count": 1,
   "id": "ef8bdd1f",
   "metadata": {},
   "outputs": [],
   "source": [
    "import pandas as pd \n",
    "import numpy as np\n",
    "import matplotlib.pyplot as plt\n",
    "import seaborn as sns\n",
    "from datetime import datetime\n",
    "# this statement allows the visuals to render within your Jupyter Notebook\n",
    "%matplotlib inline \n",
    "#%config InlineBackend.figure_format = 'svg'"
   ]
  },
  {
   "cell_type": "markdown",
   "id": "ded032ba",
   "metadata": {},
   "source": [
    "# <a name=load>Load data</a>"
   ]
  },
  {
   "cell_type": "code",
   "execution_count": 2,
   "id": "1ee7d5a5",
   "metadata": {},
   "outputs": [],
   "source": [
    "df = pd.read_csv('Sales_April_2019.csv',\n",
    "                delimiter=';',\n",
    "                 na_values=' '\n",
    "                 )"
   ]
  },
  {
   "cell_type": "code",
   "execution_count": 3,
   "id": "d09c456b",
   "metadata": {},
   "outputs": [
    {
     "data": {
      "text/html": [
       "<div>\n",
       "<style scoped>\n",
       "    .dataframe tbody tr th:only-of-type {\n",
       "        vertical-align: middle;\n",
       "    }\n",
       "\n",
       "    .dataframe tbody tr th {\n",
       "        vertical-align: top;\n",
       "    }\n",
       "\n",
       "    .dataframe thead th {\n",
       "        text-align: right;\n",
       "    }\n",
       "</style>\n",
       "<table border=\"1\" class=\"dataframe\">\n",
       "  <thead>\n",
       "    <tr style=\"text-align: right;\">\n",
       "      <th></th>\n",
       "      <th>Order ID</th>\n",
       "      <th>Product</th>\n",
       "      <th>Quantity Ordered</th>\n",
       "      <th>Price Each</th>\n",
       "      <th>Order Date</th>\n",
       "      <th>Purchase Address</th>\n",
       "    </tr>\n",
       "  </thead>\n",
       "  <tbody>\n",
       "    <tr>\n",
       "      <th>0</th>\n",
       "      <td>176558</td>\n",
       "      <td>USB-C Charging Cable</td>\n",
       "      <td>2</td>\n",
       "      <td>11.95</td>\n",
       "      <td>04/19/19 08:46</td>\n",
       "      <td>917 1st St, Dallas, TX 75001</td>\n",
       "    </tr>\n",
       "    <tr>\n",
       "      <th>1</th>\n",
       "      <td>NaN</td>\n",
       "      <td>NaN</td>\n",
       "      <td>NaN</td>\n",
       "      <td>NaN</td>\n",
       "      <td>NaN</td>\n",
       "      <td>NaN</td>\n",
       "    </tr>\n",
       "    <tr>\n",
       "      <th>2</th>\n",
       "      <td>176559</td>\n",
       "      <td>Bose SoundSport Headphones</td>\n",
       "      <td>1</td>\n",
       "      <td>99.99</td>\n",
       "      <td>04/07/19 22:30</td>\n",
       "      <td>682 Chestnut St, Boston, MA 02215</td>\n",
       "    </tr>\n",
       "    <tr>\n",
       "      <th>3</th>\n",
       "      <td>176560</td>\n",
       "      <td>Google Phone</td>\n",
       "      <td>1</td>\n",
       "      <td>600</td>\n",
       "      <td>04/12/19 14:38</td>\n",
       "      <td>669 Spruce St, Los Angeles, CA 90001</td>\n",
       "    </tr>\n",
       "    <tr>\n",
       "      <th>4</th>\n",
       "      <td>176560</td>\n",
       "      <td>Wired Headphones</td>\n",
       "      <td>1</td>\n",
       "      <td>11.99</td>\n",
       "      <td>04/12/19 14:38</td>\n",
       "      <td>669 Spruce St, Los Angeles, CA 90001</td>\n",
       "    </tr>\n",
       "  </tbody>\n",
       "</table>\n",
       "</div>"
      ],
      "text/plain": [
       "  Order ID                     Product Quantity Ordered Price Each  \\\n",
       "0   176558        USB-C Charging Cable                2      11.95   \n",
       "1      NaN                         NaN              NaN        NaN   \n",
       "2   176559  Bose SoundSport Headphones                1      99.99   \n",
       "3   176560                Google Phone                1        600   \n",
       "4   176560            Wired Headphones                1      11.99   \n",
       "\n",
       "       Order Date                      Purchase Address  \n",
       "0  04/19/19 08:46          917 1st St, Dallas, TX 75001  \n",
       "1             NaN                                   NaN  \n",
       "2  04/07/19 22:30     682 Chestnut St, Boston, MA 02215  \n",
       "3  04/12/19 14:38  669 Spruce St, Los Angeles, CA 90001  \n",
       "4  04/12/19 14:38  669 Spruce St, Los Angeles, CA 90001  "
      ]
     },
     "execution_count": 3,
     "metadata": {},
     "output_type": "execute_result"
    }
   ],
   "source": [
    "df.head()"
   ]
  },
  {
   "cell_type": "code",
   "execution_count": 4,
   "id": "3e1efa94",
   "metadata": {
    "scrolled": true
   },
   "outputs": [
    {
     "name": "stdout",
     "output_type": "stream",
     "text": [
      "<class 'pandas.core.frame.DataFrame'>\n",
      "RangeIndex: 18383 entries, 0 to 18382\n",
      "Data columns (total 6 columns):\n",
      " #   Column            Non-Null Count  Dtype \n",
      "---  ------            --------------  ----- \n",
      " 0   Order ID          18324 non-null  object\n",
      " 1   Product           18324 non-null  object\n",
      " 2   Quantity Ordered  18324 non-null  object\n",
      " 3   Price Each        18324 non-null  object\n",
      " 4   Order Date        18324 non-null  object\n",
      " 5   Purchase Address  18324 non-null  object\n",
      "dtypes: object(6)\n",
      "memory usage: 861.8+ KB\n"
     ]
    }
   ],
   "source": [
    "df.info()"
   ]
  },
  {
   "cell_type": "markdown",
   "id": "96455fcf",
   "metadata": {},
   "source": [
    "# <a name=formating>Data formating</a>"
   ]
  },
  {
   "cell_type": "code",
   "execution_count": 5,
   "id": "a5951072",
   "metadata": {},
   "outputs": [],
   "source": [
    "# i need to change data format of four colums :order id ,Order Date, Quantity Ordered,Price Each \n",
    "df['Order ID'] = pd.to_numeric(df['Order ID'], errors='coerce')\n"
   ]
  },
  {
   "cell_type": "code",
   "execution_count": 7,
   "id": "14d2f729",
   "metadata": {},
   "outputs": [
    {
     "data": {
      "text/html": [
       "<div>\n",
       "<style scoped>\n",
       "    .dataframe tbody tr th:only-of-type {\n",
       "        vertical-align: middle;\n",
       "    }\n",
       "\n",
       "    .dataframe tbody tr th {\n",
       "        vertical-align: top;\n",
       "    }\n",
       "\n",
       "    .dataframe thead th {\n",
       "        text-align: right;\n",
       "    }\n",
       "</style>\n",
       "<table border=\"1\" class=\"dataframe\">\n",
       "  <thead>\n",
       "    <tr style=\"text-align: right;\">\n",
       "      <th></th>\n",
       "      <th>Order ID</th>\n",
       "      <th>Product</th>\n",
       "      <th>Quantity Ordered</th>\n",
       "      <th>Price Each</th>\n",
       "      <th>Order Date</th>\n",
       "      <th>Purchase Address</th>\n",
       "      <th>Date</th>\n",
       "    </tr>\n",
       "  </thead>\n",
       "  <tbody>\n",
       "    <tr>\n",
       "      <th>0</th>\n",
       "      <td>176558.0</td>\n",
       "      <td>USB-C Charging Cable</td>\n",
       "      <td>2</td>\n",
       "      <td>11.95</td>\n",
       "      <td>04/19/19 08:46</td>\n",
       "      <td>917 1st St, Dallas, TX 75001</td>\n",
       "      <td>04/19/19</td>\n",
       "    </tr>\n",
       "    <tr>\n",
       "      <th>1</th>\n",
       "      <td>NaN</td>\n",
       "      <td>NaN</td>\n",
       "      <td>NaN</td>\n",
       "      <td>NaN</td>\n",
       "      <td>NaN</td>\n",
       "      <td>NaN</td>\n",
       "      <td>NaN</td>\n",
       "    </tr>\n",
       "    <tr>\n",
       "      <th>2</th>\n",
       "      <td>176559.0</td>\n",
       "      <td>Bose SoundSport Headphones</td>\n",
       "      <td>1</td>\n",
       "      <td>99.99</td>\n",
       "      <td>04/07/19 22:30</td>\n",
       "      <td>682 Chestnut St, Boston, MA 02215</td>\n",
       "      <td>04/07/19</td>\n",
       "    </tr>\n",
       "    <tr>\n",
       "      <th>3</th>\n",
       "      <td>176560.0</td>\n",
       "      <td>Google Phone</td>\n",
       "      <td>1</td>\n",
       "      <td>600</td>\n",
       "      <td>04/12/19 14:38</td>\n",
       "      <td>669 Spruce St, Los Angeles, CA 90001</td>\n",
       "      <td>04/12/19</td>\n",
       "    </tr>\n",
       "    <tr>\n",
       "      <th>4</th>\n",
       "      <td>176560.0</td>\n",
       "      <td>Wired Headphones</td>\n",
       "      <td>1</td>\n",
       "      <td>11.99</td>\n",
       "      <td>04/12/19 14:38</td>\n",
       "      <td>669 Spruce St, Los Angeles, CA 90001</td>\n",
       "      <td>04/12/19</td>\n",
       "    </tr>\n",
       "  </tbody>\n",
       "</table>\n",
       "</div>"
      ],
      "text/plain": [
       "   Order ID                     Product Quantity Ordered Price Each  \\\n",
       "0  176558.0        USB-C Charging Cable                2      11.95   \n",
       "1       NaN                         NaN              NaN        NaN   \n",
       "2  176559.0  Bose SoundSport Headphones                1      99.99   \n",
       "3  176560.0                Google Phone                1        600   \n",
       "4  176560.0            Wired Headphones                1      11.99   \n",
       "\n",
       "       Order Date                      Purchase Address      Date  \n",
       "0  04/19/19 08:46          917 1st St, Dallas, TX 75001  04/19/19  \n",
       "1             NaN                                   NaN       NaN  \n",
       "2  04/07/19 22:30     682 Chestnut St, Boston, MA 02215  04/07/19  \n",
       "3  04/12/19 14:38  669 Spruce St, Los Angeles, CA 90001  04/12/19  \n",
       "4  04/12/19 14:38  669 Spruce St, Los Angeles, CA 90001  04/12/19  "
      ]
     },
     "execution_count": 7,
     "metadata": {},
     "output_type": "execute_result"
    }
   ],
   "source": [
    "#put date in new col\n",
    "df['Date'] = df['Order Date'].str.split(' ').str[0]\n",
    "df.head()"
   ]
  },
  {
   "cell_type": "code",
   "execution_count": 8,
   "id": "91ef9cf3",
   "metadata": {
    "scrolled": false
   },
   "outputs": [],
   "source": [
    "df['Date'] = pd.to_datetime(df['Date'],format='%m/%d/%y', errors='coerce')"
   ]
  },
  {
   "cell_type": "code",
   "execution_count": 9,
   "id": "7d4c26f9",
   "metadata": {},
   "outputs": [],
   "source": [
    "df['Quantity Ordered'] = pd.to_numeric(df['Quantity Ordered'], errors='coerce')"
   ]
  },
  {
   "cell_type": "code",
   "execution_count": 10,
   "id": "4998122e",
   "metadata": {},
   "outputs": [],
   "source": [
    "df['Price Each'] = pd.to_numeric(df['Price Each'], errors='coerce')"
   ]
  },
  {
   "cell_type": "code",
   "execution_count": 11,
   "id": "15f91ae7",
   "metadata": {},
   "outputs": [
    {
     "name": "stdout",
     "output_type": "stream",
     "text": [
      "<class 'pandas.core.frame.DataFrame'>\n",
      "RangeIndex: 18383 entries, 0 to 18382\n",
      "Data columns (total 7 columns):\n",
      " #   Column            Non-Null Count  Dtype         \n",
      "---  ------            --------------  -----         \n",
      " 0   Order ID          18289 non-null  float64       \n",
      " 1   Product           18324 non-null  object        \n",
      " 2   Quantity Ordered  18289 non-null  float64       \n",
      " 3   Price Each        18289 non-null  float64       \n",
      " 4   Order Date        18324 non-null  object        \n",
      " 5   Purchase Address  18324 non-null  object        \n",
      " 6   Date              18289 non-null  datetime64[ns]\n",
      "dtypes: datetime64[ns](1), float64(3), object(3)\n",
      "memory usage: 1005.4+ KB\n"
     ]
    }
   ],
   "source": [
    "df.info()"
   ]
  },
  {
   "cell_type": "markdown",
   "id": "a13c1e64",
   "metadata": {},
   "source": [
    "# <a name=EDA>Explratory data analysis(EDA)</a>"
   ]
  },
  {
   "cell_type": "code",
   "execution_count": 12,
   "id": "8a6035e6",
   "metadata": {},
   "outputs": [
    {
     "data": {
      "text/html": [
       "<div>\n",
       "<style scoped>\n",
       "    .dataframe tbody tr th:only-of-type {\n",
       "        vertical-align: middle;\n",
       "    }\n",
       "\n",
       "    .dataframe tbody tr th {\n",
       "        vertical-align: top;\n",
       "    }\n",
       "\n",
       "    .dataframe thead th {\n",
       "        text-align: right;\n",
       "    }\n",
       "</style>\n",
       "<table border=\"1\" class=\"dataframe\">\n",
       "  <thead>\n",
       "    <tr style=\"text-align: right;\">\n",
       "      <th></th>\n",
       "      <th>Order ID</th>\n",
       "      <th>Quantity Ordered</th>\n",
       "      <th>Price Each</th>\n",
       "    </tr>\n",
       "  </thead>\n",
       "  <tbody>\n",
       "    <tr>\n",
       "      <th>count</th>\n",
       "      <td>18289.000000</td>\n",
       "      <td>18289.00000</td>\n",
       "      <td>18289.000000</td>\n",
       "    </tr>\n",
       "    <tr>\n",
       "      <th>mean</th>\n",
       "      <td>185328.816720</td>\n",
       "      <td>1.12461</td>\n",
       "      <td>184.431026</td>\n",
       "    </tr>\n",
       "    <tr>\n",
       "      <th>std</th>\n",
       "      <td>5061.520829</td>\n",
       "      <td>0.43641</td>\n",
       "      <td>330.913377</td>\n",
       "    </tr>\n",
       "    <tr>\n",
       "      <th>min</th>\n",
       "      <td>176558.000000</td>\n",
       "      <td>1.00000</td>\n",
       "      <td>2.990000</td>\n",
       "    </tr>\n",
       "    <tr>\n",
       "      <th>25%</th>\n",
       "      <td>180952.000000</td>\n",
       "      <td>1.00000</td>\n",
       "      <td>11.950000</td>\n",
       "    </tr>\n",
       "    <tr>\n",
       "      <th>50%</th>\n",
       "      <td>185328.000000</td>\n",
       "      <td>1.00000</td>\n",
       "      <td>14.950000</td>\n",
       "    </tr>\n",
       "    <tr>\n",
       "      <th>75%</th>\n",
       "      <td>189706.000000</td>\n",
       "      <td>1.00000</td>\n",
       "      <td>150.000000</td>\n",
       "    </tr>\n",
       "    <tr>\n",
       "      <th>max</th>\n",
       "      <td>194094.000000</td>\n",
       "      <td>7.00000</td>\n",
       "      <td>1700.000000</td>\n",
       "    </tr>\n",
       "  </tbody>\n",
       "</table>\n",
       "</div>"
      ],
      "text/plain": [
       "            Order ID  Quantity Ordered    Price Each\n",
       "count   18289.000000       18289.00000  18289.000000\n",
       "mean   185328.816720           1.12461    184.431026\n",
       "std      5061.520829           0.43641    330.913377\n",
       "min    176558.000000           1.00000      2.990000\n",
       "25%    180952.000000           1.00000     11.950000\n",
       "50%    185328.000000           1.00000     14.950000\n",
       "75%    189706.000000           1.00000    150.000000\n",
       "max    194094.000000           7.00000   1700.000000"
      ]
     },
     "execution_count": 12,
     "metadata": {},
     "output_type": "execute_result"
    }
   ],
   "source": [
    "df.describe()"
   ]
  },
  {
   "cell_type": "code",
   "execution_count": 13,
   "id": "80402427",
   "metadata": {},
   "outputs": [
    {
     "data": {
      "text/plain": [
       "Order ID            94\n",
       "Product             59\n",
       "Quantity Ordered    94\n",
       "Price Each          94\n",
       "Order Date          59\n",
       "Purchase Address    59\n",
       "Date                94\n",
       "dtype: int64"
      ]
     },
     "execution_count": 13,
     "metadata": {},
     "output_type": "execute_result"
    }
   ],
   "source": [
    "#find how many null valuse in each column\n",
    "\n",
    "df.isna().sum(axis=0)"
   ]
  },
  {
   "cell_type": "code",
   "execution_count": 14,
   "id": "25b91e86",
   "metadata": {},
   "outputs": [
    {
     "data": {
      "text/plain": [
       "(18383, 7)"
      ]
     },
     "execution_count": 14,
     "metadata": {},
     "output_type": "execute_result"
    }
   ],
   "source": [
    "df.shape"
   ]
  },
  {
   "cell_type": "code",
   "execution_count": 15,
   "id": "8d810d07",
   "metadata": {},
   "outputs": [],
   "source": [
    "#drop null values \n",
    "\n",
    "df.dropna(how='all', inplace=True)"
   ]
  },
  {
   "cell_type": "code",
   "execution_count": 16,
   "id": "084ee67a",
   "metadata": {},
   "outputs": [
    {
     "data": {
      "text/plain": [
       "(18324, 7)"
      ]
     },
     "execution_count": 16,
     "metadata": {},
     "output_type": "execute_result"
    }
   ],
   "source": [
    "df.shape"
   ]
  },
  {
   "cell_type": "code",
   "execution_count": 17,
   "id": "137e0aaa",
   "metadata": {},
   "outputs": [
    {
     "data": {
      "text/html": [
       "<div>\n",
       "<style scoped>\n",
       "    .dataframe tbody tr th:only-of-type {\n",
       "        vertical-align: middle;\n",
       "    }\n",
       "\n",
       "    .dataframe tbody tr th {\n",
       "        vertical-align: top;\n",
       "    }\n",
       "\n",
       "    .dataframe thead th {\n",
       "        text-align: right;\n",
       "    }\n",
       "</style>\n",
       "<table border=\"1\" class=\"dataframe\">\n",
       "  <thead>\n",
       "    <tr style=\"text-align: right;\">\n",
       "      <th></th>\n",
       "      <th>Order ID</th>\n",
       "      <th>Product</th>\n",
       "      <th>Quantity Ordered</th>\n",
       "      <th>Price Each</th>\n",
       "      <th>Order Date</th>\n",
       "      <th>Purchase Address</th>\n",
       "      <th>Date</th>\n",
       "    </tr>\n",
       "  </thead>\n",
       "  <tbody>\n",
       "    <tr>\n",
       "      <th>0</th>\n",
       "      <td>176558.0</td>\n",
       "      <td>USB-C Charging Cable</td>\n",
       "      <td>2.0</td>\n",
       "      <td>11.95</td>\n",
       "      <td>04/19/19 08:46</td>\n",
       "      <td>917 1st St, Dallas, TX 75001</td>\n",
       "      <td>2019-04-19</td>\n",
       "    </tr>\n",
       "    <tr>\n",
       "      <th>2</th>\n",
       "      <td>176559.0</td>\n",
       "      <td>Bose SoundSport Headphones</td>\n",
       "      <td>1.0</td>\n",
       "      <td>99.99</td>\n",
       "      <td>04/07/19 22:30</td>\n",
       "      <td>682 Chestnut St, Boston, MA 02215</td>\n",
       "      <td>2019-04-07</td>\n",
       "    </tr>\n",
       "    <tr>\n",
       "      <th>3</th>\n",
       "      <td>176560.0</td>\n",
       "      <td>Google Phone</td>\n",
       "      <td>1.0</td>\n",
       "      <td>600.00</td>\n",
       "      <td>04/12/19 14:38</td>\n",
       "      <td>669 Spruce St, Los Angeles, CA 90001</td>\n",
       "      <td>2019-04-12</td>\n",
       "    </tr>\n",
       "    <tr>\n",
       "      <th>4</th>\n",
       "      <td>176560.0</td>\n",
       "      <td>Wired Headphones</td>\n",
       "      <td>1.0</td>\n",
       "      <td>11.99</td>\n",
       "      <td>04/12/19 14:38</td>\n",
       "      <td>669 Spruce St, Los Angeles, CA 90001</td>\n",
       "      <td>2019-04-12</td>\n",
       "    </tr>\n",
       "    <tr>\n",
       "      <th>5</th>\n",
       "      <td>176561.0</td>\n",
       "      <td>Wired Headphones</td>\n",
       "      <td>1.0</td>\n",
       "      <td>11.99</td>\n",
       "      <td>04/30/19 09:27</td>\n",
       "      <td>333 8th St, Los Angeles, CA 90001</td>\n",
       "      <td>2019-04-30</td>\n",
       "    </tr>\n",
       "    <tr>\n",
       "      <th>...</th>\n",
       "      <td>...</td>\n",
       "      <td>...</td>\n",
       "      <td>...</td>\n",
       "      <td>...</td>\n",
       "      <td>...</td>\n",
       "      <td>...</td>\n",
       "      <td>...</td>\n",
       "    </tr>\n",
       "    <tr>\n",
       "      <th>18378</th>\n",
       "      <td>194090.0</td>\n",
       "      <td>Google Phone</td>\n",
       "      <td>1.0</td>\n",
       "      <td>600.00</td>\n",
       "      <td>04/08/19 17:11</td>\n",
       "      <td>177 Jackson St, Los Angeles, CA 90001</td>\n",
       "      <td>2019-04-08</td>\n",
       "    </tr>\n",
       "    <tr>\n",
       "      <th>18379</th>\n",
       "      <td>194091.0</td>\n",
       "      <td>AA Batteries (4-pack)</td>\n",
       "      <td>1.0</td>\n",
       "      <td>3.84</td>\n",
       "      <td>04/15/19 16:02</td>\n",
       "      <td>311 Forest St, Austin, TX 73301</td>\n",
       "      <td>2019-04-15</td>\n",
       "    </tr>\n",
       "    <tr>\n",
       "      <th>18380</th>\n",
       "      <td>194092.0</td>\n",
       "      <td>AAA Batteries (4-pack)</td>\n",
       "      <td>2.0</td>\n",
       "      <td>2.99</td>\n",
       "      <td>04/28/19 14:36</td>\n",
       "      <td>347 Sunset St, San Francisco, CA 94016</td>\n",
       "      <td>2019-04-28</td>\n",
       "    </tr>\n",
       "    <tr>\n",
       "      <th>18381</th>\n",
       "      <td>194093.0</td>\n",
       "      <td>AA Batteries (4-pack)</td>\n",
       "      <td>1.0</td>\n",
       "      <td>3.84</td>\n",
       "      <td>04/14/19 15:09</td>\n",
       "      <td>835 Lake St, Portland, OR 97035</td>\n",
       "      <td>2019-04-14</td>\n",
       "    </tr>\n",
       "    <tr>\n",
       "      <th>18382</th>\n",
       "      <td>194094.0</td>\n",
       "      <td>Lightning Charging Cable</td>\n",
       "      <td>1.0</td>\n",
       "      <td>14.95</td>\n",
       "      <td>04/18/19 11:08</td>\n",
       "      <td>354 North St, Boston, MA 02215</td>\n",
       "      <td>2019-04-18</td>\n",
       "    </tr>\n",
       "  </tbody>\n",
       "</table>\n",
       "<p>18324 rows × 7 columns</p>\n",
       "</div>"
      ],
      "text/plain": [
       "       Order ID                     Product  Quantity Ordered  Price Each  \\\n",
       "0      176558.0        USB-C Charging Cable               2.0       11.95   \n",
       "2      176559.0  Bose SoundSport Headphones               1.0       99.99   \n",
       "3      176560.0                Google Phone               1.0      600.00   \n",
       "4      176560.0            Wired Headphones               1.0       11.99   \n",
       "5      176561.0            Wired Headphones               1.0       11.99   \n",
       "...         ...                         ...               ...         ...   \n",
       "18378  194090.0                Google Phone               1.0      600.00   \n",
       "18379  194091.0       AA Batteries (4-pack)               1.0        3.84   \n",
       "18380  194092.0      AAA Batteries (4-pack)               2.0        2.99   \n",
       "18381  194093.0       AA Batteries (4-pack)               1.0        3.84   \n",
       "18382  194094.0    Lightning Charging Cable               1.0       14.95   \n",
       "\n",
       "           Order Date                        Purchase Address       Date  \n",
       "0      04/19/19 08:46            917 1st St, Dallas, TX 75001 2019-04-19  \n",
       "2      04/07/19 22:30       682 Chestnut St, Boston, MA 02215 2019-04-07  \n",
       "3      04/12/19 14:38    669 Spruce St, Los Angeles, CA 90001 2019-04-12  \n",
       "4      04/12/19 14:38    669 Spruce St, Los Angeles, CA 90001 2019-04-12  \n",
       "5      04/30/19 09:27       333 8th St, Los Angeles, CA 90001 2019-04-30  \n",
       "...               ...                                     ...        ...  \n",
       "18378  04/08/19 17:11   177 Jackson St, Los Angeles, CA 90001 2019-04-08  \n",
       "18379  04/15/19 16:02         311 Forest St, Austin, TX 73301 2019-04-15  \n",
       "18380  04/28/19 14:36  347 Sunset St, San Francisco, CA 94016 2019-04-28  \n",
       "18381  04/14/19 15:09         835 Lake St, Portland, OR 97035 2019-04-14  \n",
       "18382  04/18/19 11:08          354 North St, Boston, MA 02215 2019-04-18  \n",
       "\n",
       "[18324 rows x 7 columns]"
      ]
     },
     "execution_count": 17,
     "metadata": {},
     "output_type": "execute_result"
    }
   ],
   "source": [
    "df"
   ]
  },
  {
   "cell_type": "code",
   "execution_count": 18,
   "id": "1fcc11d3",
   "metadata": {
    "scrolled": false
   },
   "outputs": [
    {
     "data": {
      "text/plain": [
       "Order ID            35\n",
       "Product              0\n",
       "Quantity Ordered    35\n",
       "Price Each          35\n",
       "Order Date           0\n",
       "Purchase Address     0\n",
       "Date                35\n",
       "dtype: int64"
      ]
     },
     "execution_count": 18,
     "metadata": {},
     "output_type": "execute_result"
    }
   ],
   "source": [
    "#after del null values\n",
    "df.isna().sum(axis=0)"
   ]
  },
  {
   "cell_type": "code",
   "execution_count": 19,
   "id": "f0ea3d76",
   "metadata": {
    "scrolled": false
   },
   "outputs": [
    {
     "data": {
      "text/html": [
       "<div>\n",
       "<style scoped>\n",
       "    .dataframe tbody tr th:only-of-type {\n",
       "        vertical-align: middle;\n",
       "    }\n",
       "\n",
       "    .dataframe tbody tr th {\n",
       "        vertical-align: top;\n",
       "    }\n",
       "\n",
       "    .dataframe thead th {\n",
       "        text-align: right;\n",
       "    }\n",
       "</style>\n",
       "<table border=\"1\" class=\"dataframe\">\n",
       "  <thead>\n",
       "    <tr style=\"text-align: right;\">\n",
       "      <th></th>\n",
       "      <th>Order ID</th>\n",
       "      <th>Product</th>\n",
       "      <th>Quantity Ordered</th>\n",
       "      <th>Price Each</th>\n",
       "      <th>Order Date</th>\n",
       "      <th>Purchase Address</th>\n",
       "      <th>Date</th>\n",
       "    </tr>\n",
       "  </thead>\n",
       "  <tbody>\n",
       "    <tr>\n",
       "      <th>31</th>\n",
       "      <td>176585.0</td>\n",
       "      <td>Bose SoundSport Headphones</td>\n",
       "      <td>1.0</td>\n",
       "      <td>99.99</td>\n",
       "      <td>04/07/19 11:31</td>\n",
       "      <td>823 Highland St, Boston, MA 02215</td>\n",
       "      <td>2019-04-07</td>\n",
       "    </tr>\n",
       "    <tr>\n",
       "      <th>1149</th>\n",
       "      <td>NaN</td>\n",
       "      <td>Product</td>\n",
       "      <td>NaN</td>\n",
       "      <td>NaN</td>\n",
       "      <td>Order Date</td>\n",
       "      <td>Purchase Address</td>\n",
       "      <td>NaT</td>\n",
       "    </tr>\n",
       "    <tr>\n",
       "      <th>1155</th>\n",
       "      <td>NaN</td>\n",
       "      <td>Product</td>\n",
       "      <td>NaN</td>\n",
       "      <td>NaN</td>\n",
       "      <td>Order Date</td>\n",
       "      <td>Purchase Address</td>\n",
       "      <td>NaT</td>\n",
       "    </tr>\n",
       "    <tr>\n",
       "      <th>1302</th>\n",
       "      <td>177795.0</td>\n",
       "      <td>Apple Airpods Headphones</td>\n",
       "      <td>1.0</td>\n",
       "      <td>150.00</td>\n",
       "      <td>04/27/19 19:45</td>\n",
       "      <td>740 14th St, Seattle, WA 98101</td>\n",
       "      <td>2019-04-27</td>\n",
       "    </tr>\n",
       "    <tr>\n",
       "      <th>1684</th>\n",
       "      <td>178158.0</td>\n",
       "      <td>USB-C Charging Cable</td>\n",
       "      <td>1.0</td>\n",
       "      <td>11.95</td>\n",
       "      <td>04/28/19 21:13</td>\n",
       "      <td>197 Center St, San Francisco, CA 94016</td>\n",
       "      <td>2019-04-28</td>\n",
       "    </tr>\n",
       "  </tbody>\n",
       "</table>\n",
       "</div>"
      ],
      "text/plain": [
       "      Order ID                     Product  Quantity Ordered  Price Each  \\\n",
       "31    176585.0  Bose SoundSport Headphones               1.0       99.99   \n",
       "1149       NaN                     Product               NaN         NaN   \n",
       "1155       NaN                     Product               NaN         NaN   \n",
       "1302  177795.0    Apple Airpods Headphones               1.0      150.00   \n",
       "1684  178158.0        USB-C Charging Cable               1.0       11.95   \n",
       "\n",
       "          Order Date                        Purchase Address       Date  \n",
       "31    04/07/19 11:31       823 Highland St, Boston, MA 02215 2019-04-07  \n",
       "1149      Order Date                        Purchase Address        NaT  \n",
       "1155      Order Date                        Purchase Address        NaT  \n",
       "1302  04/27/19 19:45          740 14th St, Seattle, WA 98101 2019-04-27  \n",
       "1684  04/28/19 21:13  197 Center St, San Francisco, CA 94016 2019-04-28  "
      ]
     },
     "execution_count": 19,
     "metadata": {},
     "output_type": "execute_result"
    }
   ],
   "source": [
    "#show duplicated data \n",
    "df.loc[df.duplicated(), :].head(5)"
   ]
  },
  {
   "cell_type": "code",
   "execution_count": 20,
   "id": "8483a97a",
   "metadata": {},
   "outputs": [],
   "source": [
    "#to del raw based on spesific val\n",
    "drop_row = df[df['Product'] == 'Product'].index\n",
    " \n",
    "# Delete these row \n",
    "df.drop(drop_row , inplace=True)"
   ]
  },
  {
   "cell_type": "code",
   "execution_count": 21,
   "id": "bc166289",
   "metadata": {
    "scrolled": true
   },
   "outputs": [
    {
     "data": {
      "text/plain": [
       "Lightning Charging Cable      2201\n",
       "USB-C Charging Cable          2079\n",
       "AA Batteries (4-pack)         2063\n",
       "AAA Batteries (4-pack)        1989\n",
       "Wired Headphones              1890\n",
       "Apple Airpods Headphones      1515\n",
       "Bose SoundSport Headphones    1280\n",
       "27in FHD Monitor               734\n",
       "iPhone                         693\n",
       "34in Ultrawide Monitor         650\n",
       "Google Phone                   581\n",
       "27in 4K Gaming Monitor         563\n",
       "Flatscreen TV                  458\n",
       "Macbook Pro Laptop             453\n",
       "ThinkPad Laptop                392\n",
       "20in Monitor                   390\n",
       "Vareebadd Phone                220\n",
       "LG Dryer                        77\n",
       "LG Washing Machine              61\n",
       "Name: Product, dtype: int64"
      ]
     },
     "execution_count": 21,
     "metadata": {},
     "output_type": "execute_result"
    }
   ],
   "source": [
    "df['Product'].value_counts()"
   ]
  },
  {
   "cell_type": "code",
   "execution_count": 22,
   "id": "3784f8f4",
   "metadata": {},
   "outputs": [
    {
     "data": {
      "text/plain": [
       "22"
      ]
     },
     "execution_count": 22,
     "metadata": {},
     "output_type": "execute_result"
    }
   ],
   "source": [
    "sum(df.duplicated())"
   ]
  },
  {
   "cell_type": "code",
   "execution_count": 23,
   "id": "3e71dd53",
   "metadata": {},
   "outputs": [
    {
     "data": {
      "text/html": [
       "<div>\n",
       "<style scoped>\n",
       "    .dataframe tbody tr th:only-of-type {\n",
       "        vertical-align: middle;\n",
       "    }\n",
       "\n",
       "    .dataframe tbody tr th {\n",
       "        vertical-align: top;\n",
       "    }\n",
       "\n",
       "    .dataframe thead th {\n",
       "        text-align: right;\n",
       "    }\n",
       "</style>\n",
       "<table border=\"1\" class=\"dataframe\">\n",
       "  <thead>\n",
       "    <tr style=\"text-align: right;\">\n",
       "      <th></th>\n",
       "      <th>Order ID</th>\n",
       "      <th>Product</th>\n",
       "      <th>Quantity Ordered</th>\n",
       "      <th>Price Each</th>\n",
       "      <th>Order Date</th>\n",
       "      <th>Purchase Address</th>\n",
       "      <th>Date</th>\n",
       "    </tr>\n",
       "  </thead>\n",
       "  <tbody>\n",
       "    <tr>\n",
       "      <th>0</th>\n",
       "      <td>176558.0</td>\n",
       "      <td>USB-C Charging Cable</td>\n",
       "      <td>2.0</td>\n",
       "      <td>11.95</td>\n",
       "      <td>04/19/19 08:46</td>\n",
       "      <td>917 1st St, Dallas, TX 75001</td>\n",
       "      <td>2019-04-19</td>\n",
       "    </tr>\n",
       "    <tr>\n",
       "      <th>2</th>\n",
       "      <td>176559.0</td>\n",
       "      <td>Bose SoundSport Headphones</td>\n",
       "      <td>1.0</td>\n",
       "      <td>99.99</td>\n",
       "      <td>04/07/19 22:30</td>\n",
       "      <td>682 Chestnut St, Boston, MA 02215</td>\n",
       "      <td>2019-04-07</td>\n",
       "    </tr>\n",
       "    <tr>\n",
       "      <th>3</th>\n",
       "      <td>176560.0</td>\n",
       "      <td>Google Phone</td>\n",
       "      <td>1.0</td>\n",
       "      <td>600.00</td>\n",
       "      <td>04/12/19 14:38</td>\n",
       "      <td>669 Spruce St, Los Angeles, CA 90001</td>\n",
       "      <td>2019-04-12</td>\n",
       "    </tr>\n",
       "    <tr>\n",
       "      <th>5</th>\n",
       "      <td>176561.0</td>\n",
       "      <td>Wired Headphones</td>\n",
       "      <td>1.0</td>\n",
       "      <td>11.99</td>\n",
       "      <td>04/30/19 09:27</td>\n",
       "      <td>333 8th St, Los Angeles, CA 90001</td>\n",
       "      <td>2019-04-30</td>\n",
       "    </tr>\n",
       "    <tr>\n",
       "      <th>6</th>\n",
       "      <td>176562.0</td>\n",
       "      <td>USB-C Charging Cable</td>\n",
       "      <td>1.0</td>\n",
       "      <td>11.95</td>\n",
       "      <td>04/29/19 13:03</td>\n",
       "      <td>381 Wilson St, San Francisco, CA 94016</td>\n",
       "      <td>2019-04-29</td>\n",
       "    </tr>\n",
       "    <tr>\n",
       "      <th>...</th>\n",
       "      <td>...</td>\n",
       "      <td>...</td>\n",
       "      <td>...</td>\n",
       "      <td>...</td>\n",
       "      <td>...</td>\n",
       "      <td>...</td>\n",
       "      <td>...</td>\n",
       "    </tr>\n",
       "    <tr>\n",
       "      <th>18378</th>\n",
       "      <td>194090.0</td>\n",
       "      <td>Google Phone</td>\n",
       "      <td>1.0</td>\n",
       "      <td>600.00</td>\n",
       "      <td>04/08/19 17:11</td>\n",
       "      <td>177 Jackson St, Los Angeles, CA 90001</td>\n",
       "      <td>2019-04-08</td>\n",
       "    </tr>\n",
       "    <tr>\n",
       "      <th>18379</th>\n",
       "      <td>194091.0</td>\n",
       "      <td>AA Batteries (4-pack)</td>\n",
       "      <td>1.0</td>\n",
       "      <td>3.84</td>\n",
       "      <td>04/15/19 16:02</td>\n",
       "      <td>311 Forest St, Austin, TX 73301</td>\n",
       "      <td>2019-04-15</td>\n",
       "    </tr>\n",
       "    <tr>\n",
       "      <th>18380</th>\n",
       "      <td>194092.0</td>\n",
       "      <td>AAA Batteries (4-pack)</td>\n",
       "      <td>2.0</td>\n",
       "      <td>2.99</td>\n",
       "      <td>04/28/19 14:36</td>\n",
       "      <td>347 Sunset St, San Francisco, CA 94016</td>\n",
       "      <td>2019-04-28</td>\n",
       "    </tr>\n",
       "    <tr>\n",
       "      <th>18381</th>\n",
       "      <td>194093.0</td>\n",
       "      <td>AA Batteries (4-pack)</td>\n",
       "      <td>1.0</td>\n",
       "      <td>3.84</td>\n",
       "      <td>04/14/19 15:09</td>\n",
       "      <td>835 Lake St, Portland, OR 97035</td>\n",
       "      <td>2019-04-14</td>\n",
       "    </tr>\n",
       "    <tr>\n",
       "      <th>18382</th>\n",
       "      <td>194094.0</td>\n",
       "      <td>Lightning Charging Cable</td>\n",
       "      <td>1.0</td>\n",
       "      <td>14.95</td>\n",
       "      <td>04/18/19 11:08</td>\n",
       "      <td>354 North St, Boston, MA 02215</td>\n",
       "      <td>2019-04-18</td>\n",
       "    </tr>\n",
       "  </tbody>\n",
       "</table>\n",
       "<p>17537 rows × 7 columns</p>\n",
       "</div>"
      ],
      "text/plain": [
       "       Order ID                     Product  Quantity Ordered  Price Each  \\\n",
       "0      176558.0        USB-C Charging Cable               2.0       11.95   \n",
       "2      176559.0  Bose SoundSport Headphones               1.0       99.99   \n",
       "3      176560.0                Google Phone               1.0      600.00   \n",
       "5      176561.0            Wired Headphones               1.0       11.99   \n",
       "6      176562.0        USB-C Charging Cable               1.0       11.95   \n",
       "...         ...                         ...               ...         ...   \n",
       "18378  194090.0                Google Phone               1.0      600.00   \n",
       "18379  194091.0       AA Batteries (4-pack)               1.0        3.84   \n",
       "18380  194092.0      AAA Batteries (4-pack)               2.0        2.99   \n",
       "18381  194093.0       AA Batteries (4-pack)               1.0        3.84   \n",
       "18382  194094.0    Lightning Charging Cable               1.0       14.95   \n",
       "\n",
       "           Order Date                        Purchase Address       Date  \n",
       "0      04/19/19 08:46            917 1st St, Dallas, TX 75001 2019-04-19  \n",
       "2      04/07/19 22:30       682 Chestnut St, Boston, MA 02215 2019-04-07  \n",
       "3      04/12/19 14:38    669 Spruce St, Los Angeles, CA 90001 2019-04-12  \n",
       "5      04/30/19 09:27       333 8th St, Los Angeles, CA 90001 2019-04-30  \n",
       "6      04/29/19 13:03  381 Wilson St, San Francisco, CA 94016 2019-04-29  \n",
       "...               ...                                     ...        ...  \n",
       "18378  04/08/19 17:11   177 Jackson St, Los Angeles, CA 90001 2019-04-08  \n",
       "18379  04/15/19 16:02         311 Forest St, Austin, TX 73301 2019-04-15  \n",
       "18380  04/28/19 14:36  347 Sunset St, San Francisco, CA 94016 2019-04-28  \n",
       "18381  04/14/19 15:09         835 Lake St, Portland, OR 97035 2019-04-14  \n",
       "18382  04/18/19 11:08          354 North St, Boston, MA 02215 2019-04-18  \n",
       "\n",
       "[17537 rows x 7 columns]"
      ]
     },
     "execution_count": 23,
     "metadata": {},
     "output_type": "execute_result"
    }
   ],
   "source": [
    "df.drop_duplicates(subset=['Order ID'], keep='first', inplace=True)\n",
    "df"
   ]
  },
  {
   "cell_type": "code",
   "execution_count": 24,
   "id": "7df447e6",
   "metadata": {},
   "outputs": [
    {
     "data": {
      "text/plain": [
       "0"
      ]
     },
     "execution_count": 24,
     "metadata": {},
     "output_type": "execute_result"
    }
   ],
   "source": [
    "sum(df.duplicated())"
   ]
  },
  {
   "cell_type": "code",
   "execution_count": 25,
   "id": "fd720533",
   "metadata": {},
   "outputs": [
    {
     "name": "stdout",
     "output_type": "stream",
     "text": [
      "Order ID - 0%\n",
      "Product - 0%\n",
      "Quantity Ordered - 0%\n",
      "Price Each - 0%\n",
      "Order Date - 0%\n",
      "Purchase Address - 0%\n",
      "Date - 0%\n"
     ]
    }
   ],
   "source": [
    "#to make sure no missing val in our dataset\n",
    "for col in df.columns:\n",
    "    pct_missing = np.mean(df[col].isnull())\n",
    "    print('{} - {}%'.format(col, round(pct_missing*100)))"
   ]
  },
  {
   "cell_type": "code",
   "execution_count": 26,
   "id": "7d21bb7f",
   "metadata": {
    "scrolled": true
   },
   "outputs": [
    {
     "data": {
      "image/png": "[encoded data removed]",
      "text/plain": [
       "<Figure size 936x360 with 1 Axes>"
      ]
     },
     "metadata": {
      "needs_background": "light"
     },
     "output_type": "display_data"
    }
   ],
   "source": [
    "\n",
    "#Outliers\n",
    "\n",
    "plt.figure(figsize=(13,5))\n",
    "sns.boxplot(data=df[['Quantity Ordered', 'Price Each']], orient='h')\n",
    "plt.title(\"Outlires\")\n",
    "plt.show()"
   ]
  },
  {
   "cell_type": "code",
   "execution_count": 27,
   "id": "486f03d0",
   "metadata": {},
   "outputs": [
    {
     "data": {
      "text/html": [
       "<div>\n",
       "<style scoped>\n",
       "    .dataframe tbody tr th:only-of-type {\n",
       "        vertical-align: middle;\n",
       "    }\n",
       "\n",
       "    .dataframe tbody tr th {\n",
       "        vertical-align: top;\n",
       "    }\n",
       "\n",
       "    .dataframe thead th {\n",
       "        text-align: right;\n",
       "    }\n",
       "</style>\n",
       "<table border=\"1\" class=\"dataframe\">\n",
       "  <thead>\n",
       "    <tr style=\"text-align: right;\">\n",
       "      <th></th>\n",
       "      <th>Order ID</th>\n",
       "      <th>Product</th>\n",
       "      <th>Quantity Ordered</th>\n",
       "      <th>Price Each</th>\n",
       "      <th>Order Date</th>\n",
       "      <th>Purchase Address</th>\n",
       "      <th>Date</th>\n",
       "    </tr>\n",
       "  </thead>\n",
       "  <tbody>\n",
       "    <tr>\n",
       "      <th>9</th>\n",
       "      <td>176565.0</td>\n",
       "      <td>Macbook Pro Laptop</td>\n",
       "      <td>1.0</td>\n",
       "      <td>1700.00</td>\n",
       "      <td>04/24/19 10:38</td>\n",
       "      <td>915 Willow St, San Francisco, CA 94016</td>\n",
       "      <td>2019-04-24</td>\n",
       "    </tr>\n",
       "    <tr>\n",
       "      <th>26</th>\n",
       "      <td>176581.0</td>\n",
       "      <td>iPhone</td>\n",
       "      <td>1.0</td>\n",
       "      <td>700.00</td>\n",
       "      <td>04/09/19 21:38</td>\n",
       "      <td>84 Jackson St, Boston, MA 02215</td>\n",
       "      <td>2019-04-09</td>\n",
       "    </tr>\n",
       "    <tr>\n",
       "      <th>55</th>\n",
       "      <td>176608.0</td>\n",
       "      <td>iPhone</td>\n",
       "      <td>1.0</td>\n",
       "      <td>700.00</td>\n",
       "      <td>04/11/19 12:01</td>\n",
       "      <td>15 Cherry St, San Francisco, CA 94016</td>\n",
       "      <td>2019-04-11</td>\n",
       "    </tr>\n",
       "    <tr>\n",
       "      <th>80</th>\n",
       "      <td>176633.0</td>\n",
       "      <td>ThinkPad Laptop</td>\n",
       "      <td>1.0</td>\n",
       "      <td>999.99</td>\n",
       "      <td>04/23/19 14:03</td>\n",
       "      <td>863 Hickory St, Los Angeles, CA 90001</td>\n",
       "      <td>2019-04-23</td>\n",
       "    </tr>\n",
       "    <tr>\n",
       "      <th>86</th>\n",
       "      <td>176639.0</td>\n",
       "      <td>Macbook Pro Laptop</td>\n",
       "      <td>1.0</td>\n",
       "      <td>1700.00</td>\n",
       "      <td>04/28/19 16:14</td>\n",
       "      <td>853 Cedar St, San Francisco, CA 94016</td>\n",
       "      <td>2019-04-28</td>\n",
       "    </tr>\n",
       "    <tr>\n",
       "      <th>...</th>\n",
       "      <td>...</td>\n",
       "      <td>...</td>\n",
       "      <td>...</td>\n",
       "      <td>...</td>\n",
       "      <td>...</td>\n",
       "      <td>...</td>\n",
       "      <td>...</td>\n",
       "    </tr>\n",
       "    <tr>\n",
       "      <th>18313</th>\n",
       "      <td>194028.0</td>\n",
       "      <td>ThinkPad Laptop</td>\n",
       "      <td>1.0</td>\n",
       "      <td>999.99</td>\n",
       "      <td>04/15/19 00:47</td>\n",
       "      <td>24 Main St, New York City, NY 10001</td>\n",
       "      <td>2019-04-15</td>\n",
       "    </tr>\n",
       "    <tr>\n",
       "      <th>18340</th>\n",
       "      <td>194054.0</td>\n",
       "      <td>iPhone</td>\n",
       "      <td>1.0</td>\n",
       "      <td>700.00</td>\n",
       "      <td>04/21/19 20:18</td>\n",
       "      <td>533 14th St, Los Angeles, CA 90001</td>\n",
       "      <td>2019-04-21</td>\n",
       "    </tr>\n",
       "    <tr>\n",
       "      <th>18342</th>\n",
       "      <td>194056.0</td>\n",
       "      <td>iPhone</td>\n",
       "      <td>1.0</td>\n",
       "      <td>700.00</td>\n",
       "      <td>04/10/19 10:05</td>\n",
       "      <td>280 7th St, San Francisco, CA 94016</td>\n",
       "      <td>2019-04-10</td>\n",
       "    </tr>\n",
       "    <tr>\n",
       "      <th>18348</th>\n",
       "      <td>194061.0</td>\n",
       "      <td>iPhone</td>\n",
       "      <td>1.0</td>\n",
       "      <td>700.00</td>\n",
       "      <td>04/14/19 20:22</td>\n",
       "      <td>209 6th St, Atlanta, GA 30301</td>\n",
       "      <td>2019-04-14</td>\n",
       "    </tr>\n",
       "    <tr>\n",
       "      <th>18355</th>\n",
       "      <td>194067.0</td>\n",
       "      <td>iPhone</td>\n",
       "      <td>1.0</td>\n",
       "      <td>700.00</td>\n",
       "      <td>05/01/19 04:25</td>\n",
       "      <td>291 North St, San Francisco, CA 94016</td>\n",
       "      <td>2019-05-01</td>\n",
       "    </tr>\n",
       "  </tbody>\n",
       "</table>\n",
       "<p>1508 rows × 7 columns</p>\n",
       "</div>"
      ],
      "text/plain": [
       "       Order ID             Product  Quantity Ordered  Price Each  \\\n",
       "9      176565.0  Macbook Pro Laptop               1.0     1700.00   \n",
       "26     176581.0              iPhone               1.0      700.00   \n",
       "55     176608.0              iPhone               1.0      700.00   \n",
       "80     176633.0     ThinkPad Laptop               1.0      999.99   \n",
       "86     176639.0  Macbook Pro Laptop               1.0     1700.00   \n",
       "...         ...                 ...               ...         ...   \n",
       "18313  194028.0     ThinkPad Laptop               1.0      999.99   \n",
       "18340  194054.0              iPhone               1.0      700.00   \n",
       "18342  194056.0              iPhone               1.0      700.00   \n",
       "18348  194061.0              iPhone               1.0      700.00   \n",
       "18355  194067.0              iPhone               1.0      700.00   \n",
       "\n",
       "           Order Date                        Purchase Address       Date  \n",
       "9      04/24/19 10:38  915 Willow St, San Francisco, CA 94016 2019-04-24  \n",
       "26     04/09/19 21:38         84 Jackson St, Boston, MA 02215 2019-04-09  \n",
       "55     04/11/19 12:01   15 Cherry St, San Francisco, CA 94016 2019-04-11  \n",
       "80     04/23/19 14:03   863 Hickory St, Los Angeles, CA 90001 2019-04-23  \n",
       "86     04/28/19 16:14   853 Cedar St, San Francisco, CA 94016 2019-04-28  \n",
       "...               ...                                     ...        ...  \n",
       "18313  04/15/19 00:47     24 Main St, New York City, NY 10001 2019-04-15  \n",
       "18340  04/21/19 20:18      533 14th St, Los Angeles, CA 90001 2019-04-21  \n",
       "18342  04/10/19 10:05     280 7th St, San Francisco, CA 94016 2019-04-10  \n",
       "18348  04/14/19 20:22           209 6th St, Atlanta, GA 30301 2019-04-14  \n",
       "18355  05/01/19 04:25   291 North St, San Francisco, CA 94016 2019-05-01  \n",
       "\n",
       "[1508 rows x 7 columns]"
      ]
     },
     "execution_count": 27,
     "metadata": {},
     "output_type": "execute_result"
    }
   ],
   "source": [
    "#use mask to see -- outliers are price of product --\n",
    "mask=(df['Price Each']>600)\n",
    "df[mask]"
   ]
  },
  {
   "cell_type": "markdown",
   "id": "ea6a0126",
   "metadata": {},
   "source": [
    "# <a name=Questions>Questions</a>"
   ]
  },
  {
   "cell_type": "markdown",
   "id": "c8e2ddac",
   "metadata": {},
   "source": [
    "What product sold the most?"
   ]
  },
  {
   "cell_type": "code",
   "execution_count": 28,
   "id": "20dbff73",
   "metadata": {
    "scrolled": true
   },
   "outputs": [
    {
     "data": {
      "text/plain": [
       "Text(0, 0.5, 'count')"
      ]
     },
     "execution_count": 28,
     "metadata": {},
     "output_type": "execute_result"
    },
    {
     "data": {
      "image/png": "[encoded data removed]",
      "text/plain": [
       "<Figure size 432x288 with 1 Axes>"
      ]
     },
     "metadata": {
      "needs_background": "light"
     },
     "output_type": "display_data"
    }
   ],
   "source": [
    "df['Product'].value_counts().plot(kind='bar')\n",
    "plt.title(\"Product sale\")\n",
    "plt.xlabel(\"prodects\")\n",
    "plt.ylabel(\"count\")\n"
   ]
  },
  {
   "cell_type": "markdown",
   "id": "779feb93",
   "metadata": {},
   "source": [
    "At any day seles increased?"
   ]
  },
  {
   "cell_type": "code",
   "execution_count": 75,
   "id": "5ac6d896",
   "metadata": {
    "scrolled": true
   },
   "outputs": [
    {
     "data": {
      "text/plain": [
       "Text(0, 0.5, 'count')"
      ]
     },
     "execution_count": 75,
     "metadata": {},
     "output_type": "execute_result"
    },
    {
     "data": {
      "image/png": "[encoded data removed]",
      "text/plain": [
       "<Figure size 720x360 with 1 Axes>"
      ]
     },
     "metadata": {
      "needs_background": "light"
     },
     "output_type": "display_data"
    }
   ],
   "source": [
    "df['Date'].value_counts().plot(kind='bar',figsize=(10,5))\n",
    "plt.title(\"most order dates\",fontsize=15 )\n",
    "plt.xlabel(\"date\",fontsize=15)\n",
    "plt.ylabel(\"count\",fontsize=15 )"
   ]
  },
  {
   "cell_type": "markdown",
   "id": "1fc15e5a",
   "metadata": {},
   "source": [
    " what is the highest day have earning in this month?"
   ]
  },
  {
   "cell_type": "code",
   "execution_count": 37,
   "id": "e8d2802e",
   "metadata": {},
   "outputs": [],
   "source": [
    "df[\"total\"] = df[\"Price Each\"] * df[\"Quantity Ordered\"]\n"
   ]
  },
  {
   "cell_type": "code",
   "execution_count": 81,
   "id": "2cd2c5cd",
   "metadata": {},
   "outputs": [],
   "source": [
    "df.groupby('Date')['total'].sum().sort_values(ascending=False)"
   ]
  },
  {
   "cell_type": "code",
   "execution_count": 63,
   "id": "89130d91",
   "metadata": {},
   "outputs": [
    {
     "data": {
      "text/plain": [
       "Text(0, 0.5, 'price')"
      ]
     },
     "execution_count": 63,
     "metadata": {},
     "output_type": "execute_result"
    },
    {
     "data": {
      "image/png": "[encoded data removed]",
      "text/plain": [
       "<Figure size 1080x432 with 1 Axes>"
      ]
     },
     "metadata": {
      "needs_background": "light"
     },
     "output_type": "display_data"
    }
   ],
   "source": [
    "#plt.figure(figsize = (20,20)\n",
    "df.groupby('Date')['total'].sum().sort_values(ascending=False).plot(kind='bar',figsize=(15,6))\n",
    "plt.title(\"total price in each day\",style='italic' ,fontsize=20 )\n",
    "plt.xlabel(\"date\",fontsize=15 )\n",
    "plt.ylabel(\"price\",fontsize=15)"
   ]
  },
  {
   "cell_type": "markdown",
   "id": "d7e9efea",
   "metadata": {},
   "source": [
    "# <a name=Qun>Qunclosion</a>"
   ]
  }
 ],
 "metadata": {
  "kernelspec": {
   "display_name": "Python 3",
   "language": "python",
   "name": "python3"
  },
  "language_info": {
   "codemirror_mode": {
    "name": "ipython",
    "version": 3
   },
   "file_extension": ".py",
   "mimetype": "text/x-python",
   "name": "python",
   "nbconvert_exporter": "python",
   "pygments_lexer": "ipython3",
   "version": "3.8.8"
  }
 },
 "nbformat": 4,
 "nbformat_minor": 5
}
